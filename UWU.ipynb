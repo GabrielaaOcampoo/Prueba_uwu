{
 "cells": [
  {
   "cell_type": "code",
   "execution_count": null,
   "id": "35ad7f04",
   "metadata": {},
   "outputs": [],
   "source": [
    "# Script en Python que suma dos números ingresados por el usuario\n",
    "\n",
    "# Solicita al usuario ingresar dos números\n",
    "numero1 = float(input(\"Ingresa el primer número: \"))\n",
    "numero2 = float(input(\"Ingresa el segundo número: \"))\n",
    "\n",
    "# Suma los números\n",
    "suma = numero1 + numero2\n",
    "\n",
    "# Muestra el resultado\n",
    "print(\"La suma de los dos números es:\", suma)\n"
   ]
  },
  {
   "cell_type": "code",
   "execution_count": 1,
   "id": "b59f65a5",
   "metadata": {},
   "outputs": [
    {
     "name": "stdout",
     "output_type": "stream",
     "text": [
      "hola mundo\n"
     ]
    }
   ],
   "source": [
    "print(\"hola mundo\")"
   ]
  }
 ],
 "metadata": {
  "kernelspec": {
   "display_name": "unach",
   "language": "python",
   "name": "python3"
  },
  "language_info": {
   "codemirror_mode": {
    "name": "ipython",
    "version": 3
   },
   "file_extension": ".py",
   "mimetype": "text/x-python",
   "name": "python",
   "nbconvert_exporter": "python",
   "pygments_lexer": "ipython3",
   "version": "3.13.3"
  }
 },
 "nbformat": 4,
 "nbformat_minor": 5
}
